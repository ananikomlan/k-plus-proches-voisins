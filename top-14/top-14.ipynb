{
 "cells": [
  {
   "cell_type": "markdown",
   "metadata": {},
   "source": [
    "# Classification des joueurs du top 14\n",
    "\n",
    "Vous allez travailler sur un tableau de données des joueurs de rugby du top-14 issues de la page de la ligue nationale de rugby:\n",
    "\n",
    "https://www.lnr.fr/rugby-top-14/joueurs-rugby-top-14\n",
    "\n",
    "Votre travail consiste à choisir une adulte de votre choix qui selon vous aurait la carrure d'un joueur de rugby(poids et taille), et lui attribuer une place sur le terrain en utilisant l'*algorithme des k plus proches voisins*:\n",
    "\n",
    "- Demi mêlée\n",
    "- Arrière\n",
    "- 1ère ligne\n",
    "- ...\n",
    "\n",
    "*Toute démarche, même non aboutie, sera prise en compte.*\n",
    "\n",
    "*Il est attendu que votre travail soit commenté et expliqué grâce à des commentaires dans le code et accompagné de cellules au format `markdown`.*"
   ]
  },
  {
   "cell_type": "code",
   "execution_count": 87,
   "metadata": {},
   "outputs": [],
   "source": [
    "# graphs dans le notebook\n",
    "%matplotlib inline\n",
    "import pandas as pd\n",
    "import matplotlib.pyplot as plt\n",
    "import pandas as pd\n",
    "# taille des graphs\n",
    "plt.rcParams[\"figure.figsize\"] = (13,7)\n",
    "# utilitaires d'axes\n",
    "import matplotlib.ticker as ticker"
   ]
  },
  {
   "cell_type": "code",
   "execution_count": 88,
   "metadata": {},
   "outputs": [
    {
     "data": {
      "text/html": [
       "<div>\n",
       "<style scoped>\n",
       "    .dataframe tbody tr th:only-of-type {\n",
       "        vertical-align: middle;\n",
       "    }\n",
       "\n",
       "    .dataframe tbody tr th {\n",
       "        vertical-align: top;\n",
       "    }\n",
       "\n",
       "    .dataframe thead th {\n",
       "        text-align: right;\n",
       "    }\n",
       "</style>\n",
       "<table border=\"1\" class=\"dataframe\">\n",
       "  <thead>\n",
       "    <tr style=\"text-align: right;\">\n",
       "      <th></th>\n",
       "      <th>nom</th>\n",
       "      <th>club</th>\n",
       "      <th>poste</th>\n",
       "      <th>date_naissance</th>\n",
       "      <th>lieu_naissance</th>\n",
       "      <th>taille(cm)</th>\n",
       "      <th>poids(kg)</th>\n",
       "    </tr>\n",
       "  </thead>\n",
       "  <tbody>\n",
       "    <tr>\n",
       "      <th>0</th>\n",
       "      <td>Paul ABADIE</td>\n",
       "      <td>SU Agen</td>\n",
       "      <td>Demi mêlée</td>\n",
       "      <td>28 Juillet 1994</td>\n",
       "      <td>France</td>\n",
       "      <td>176.0</td>\n",
       "      <td>85.0</td>\n",
       "    </tr>\n",
       "    <tr>\n",
       "      <th>3</th>\n",
       "      <td>NICHOLAS ABENDANON</td>\n",
       "      <td>ASM Clermont</td>\n",
       "      <td>Arrière</td>\n",
       "      <td>27 Août 1986</td>\n",
       "      <td>Pays-Bas</td>\n",
       "      <td>178.0</td>\n",
       "      <td>86.0</td>\n",
       "    </tr>\n",
       "    <tr>\n",
       "      <th>6</th>\n",
       "      <td>Viliamu AFATIA</td>\n",
       "      <td>Aviron Bayonnais</td>\n",
       "      <td>1ère ligne</td>\n",
       "      <td>24 Mai 1990</td>\n",
       "      <td>Samoa américain</td>\n",
       "      <td>180.0</td>\n",
       "      <td>124.0</td>\n",
       "    </tr>\n",
       "    <tr>\n",
       "      <th>7</th>\n",
       "      <td>PIERRE AGUILLON</td>\n",
       "      <td>Stade Rochelais</td>\n",
       "      <td>Centre</td>\n",
       "      <td>27 Mars 1987</td>\n",
       "      <td>France</td>\n",
       "      <td>180.0</td>\n",
       "      <td>95.0</td>\n",
       "    </tr>\n",
       "    <tr>\n",
       "      <th>11</th>\n",
       "      <td>Badri ALKHAZASHVILI</td>\n",
       "      <td>LOU Rugby</td>\n",
       "      <td>1ère ligne</td>\n",
       "      <td>31 Juillet 1995</td>\n",
       "      <td>Géorgie</td>\n",
       "      <td>185.0</td>\n",
       "      <td>110.0</td>\n",
       "    </tr>\n",
       "  </tbody>\n",
       "</table>\n",
       "</div>"
      ],
      "text/plain": [
       "                    nom              club       poste   date_naissance  \\\n",
       "0           Paul ABADIE           SU Agen  Demi mêlée  28 Juillet 1994   \n",
       "3    NICHOLAS ABENDANON      ASM Clermont     Arrière     27 Août 1986   \n",
       "6        Viliamu AFATIA  Aviron Bayonnais  1ère ligne      24 Mai 1990   \n",
       "7       PIERRE AGUILLON   Stade Rochelais      Centre     27 Mars 1987   \n",
       "11  Badri ALKHAZASHVILI         LOU Rugby  1ère ligne  31 Juillet 1995   \n",
       "\n",
       "     lieu_naissance  taille(cm)  poids(kg)  \n",
       "0            France       176.0       85.0  \n",
       "3          Pays-Bas       178.0       86.0  \n",
       "6   Samoa américain       180.0      124.0  \n",
       "7            France       180.0       95.0  \n",
       "11          Géorgie       185.0      110.0  "
      ]
     },
     "execution_count": 88,
     "metadata": {},
     "output_type": "execute_result"
    }
   ],
   "source": [
    "df = pd.read_csv(\"joueurs-top14-edit.csv\").dropna()\n",
    "df.head()"
   ]
  },
  {
   "cell_type": "code",
   "execution_count": 89,
   "metadata": {},
   "outputs": [
    {
     "data": {
      "text/plain": [
       "array(['Demi mêlée', 'Arrière', '1ère ligne', 'Centre', 'Ailier',\n",
       "       '3e ligne', 'Trois quart aile', 'Trois quart centre',\n",
       "       \"Demi d'ouverture\", '2e ligne'], dtype=object)"
      ]
     },
     "execution_count": 89,
     "metadata": {},
     "output_type": "execute_result"
    }
   ],
   "source": [
    "df.poste.unique()"
   ]
  },
  {
   "cell_type": "markdown",
   "metadata": {},
   "source": [
    "## Observation des postes sur un graphique"
   ]
  },
  {
   "cell_type": "code",
   "execution_count": 90,
   "metadata": {},
   "outputs": [
    {
     "data": {
      "image/png": "[encoded data removed]",
      "text/plain": [
       "<Figure size 936x504 with 1 Axes>"
      ]
     },
     "metadata": {
      "needs_background": "light"
     },
     "output_type": "display_data"
    }
   ],
   "source": [
    "def tracé_graph():\n",
    "    for poste in df.poste.unique():\n",
    "        df_poste = df.loc[df[\"poste\"] == poste]\n",
    "        plt.scatter(df_poste[\"poids(kg)\"], df_poste[\"taille(cm)\"], label=poste, alpha=0.7)\n",
    "    plt.legend()\n",
    "       \n",
    "tracé_graph()"
   ]
  },
  {
   "cell_type": "markdown",
   "metadata": {},
   "source": [
    "## A vous\n",
    "\n",
    "..."
   ]
  },
  {
   "cell_type": "code",
   "execution_count": 91,
   "metadata": {},
   "outputs": [],
   "source": [
    "# TODO"
   ]
  }
 ],
 "metadata": {
  "kernelspec": {
   "display_name": "Python 3",
   "language": "python",
   "name": "python3"
  },
  "language_info": {
   "codemirror_mode": {
    "name": "ipython",
    "version": 3
   },
   "file_extension": ".py",
   "mimetype": "text/x-python",
   "name": "python",
   "nbconvert_exporter": "python",
   "pygments_lexer": "ipython3",
   "version": "3.8.2"
  }
 },
 "nbformat": 4,
 "nbformat_minor": 2
}
